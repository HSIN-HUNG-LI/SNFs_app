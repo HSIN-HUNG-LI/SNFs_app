{
 "cells": [
  {
   "cell_type": "code",
   "execution_count": 1,
   "id": "c895e111",
   "metadata": {},
   "outputs": [
    {
     "name": "stdout",
     "output_type": "stream",
     "text": [
      "Original dataset size: 6870 rows\n",
      "Filtered dataset size: 56 rows\n"
     ]
    }
   ],
   "source": [
    "import pandas as pd\n",
    "\n",
    "def load_snf_list(txt_path):\n",
    "    \"\"\"\n",
    "    Load SNF IDs from a text file. The text file should contain\n",
    "    comma-separated SNF names (e.g., LJ1099, LJ1109,...).\n",
    "    Returns a list of SNF names.\n",
    "    \"\"\"\n",
    "    with open(txt_path, 'r', encoding='utf-8') as file:\n",
    "        content = file.read()\n",
    "    # Split by comma and strip whitespace\n",
    "    return [name.strip() for name in content.split(',') if name.strip()]\n",
    "\n",
    "def filter_dataset_by_snf(df, snf_list):\n",
    "    \"\"\"\n",
    "    Filter the input DataFrame and return only rows where the 'Name' column\n",
    "    matches one of the SNF names in the list.\n",
    "    \"\"\"\n",
    "    return df[df[\"Name\"].isin(snf_list)].reset_index(drop=True)\n",
    "\n",
    "def main():\n",
    "    # Define file paths\n",
    "    csv_path = \"data/all_stdh_dataset.csv\"\n",
    "    snf_txt_path = \"data/TSC01_SNFs.txt\"\n",
    "\n",
    "    # Load dataset and SNF list\n",
    "    df = pd.read_csv(csv_path)\n",
    "    snf_list = load_snf_list(snf_txt_path)\n",
    "\n",
    "    # Filter dataset\n",
    "    filtered_df = filter_dataset_by_snf(df, snf_list)\n",
    "\n",
    "    # Optional: print result summary\n",
    "    print(f\"Original dataset size: {len(df)} rows\")\n",
    "    print(f\"Filtered dataset size: {len(filtered_df)} rows\")\n",
    "    \n",
    "    # Save filtered result if needed\n",
    "    filtered_df.to_csv(\"all_stdh_dataset_tsc01.csv\", index=False)\n",
    "\n",
    "if __name__ == \"__main__\":\n",
    "    main()\n"
   ]
  },
  {
   "cell_type": "code",
   "execution_count": null,
   "id": "531882ca",
   "metadata": {},
   "outputs": [
    {
     "name": "stdout",
     "output_type": "stream",
     "text": [
      "['1A0016', '1A0026', '1A0009', '1A0003', '1A0066', '1A0098', '1A0319', '1A0103', '1A0198', '1A0329', '1A0407', '1A0028', '1A0272', '1A0119', '1B0548', '1B0506', '1B0513', '1A0238', '1A0248', '1A0007', '1A0406', '1A0089', '1B0541', '1B0501', '1B0547', '1A0311', '1A0273', '1A0012', '1A0013', '1A0338', '1A0088', '1B0430', '1B0475', '1B0516', '1A0306', '1A0190', '1A0015', '1A0014', '1A0072', '1B0500', '1B0514', '1B0542', '1A0297', '1A0361', '1A0360', '1A0138', '1A0149', '1A0373', '1A0385', '1A0218', '1A0129', '1A0010', '1A0068', '1A0109', '1A0011', '1A0018']\n"
     ]
    }
   ],
   "source": [
    "import pandas as pd\n",
    "\n",
    "df = pd.read_csv('data/all_stdh_dataset.csv')\n",
    "\n",
    "with open('TSC01_SNFs.txt', 'r') as f:\n",
    "    text = f.read()\n",
    "names = [n.strip() for n in text.replace(',', '\\n').splitlines() if n.strip()]\n",
    "\n",
    "\n",
    "mapping = df.set_index('Name')['SNF_id']\n",
    "snf_ids = mapping.loc[names].tolist()\n",
    "\n",
    "print(snf_ids)\n",
    "with open('TSC01_SNF_id.txt', 'w') as f:\n",
    "    f.write(', '.join(snf_ids))\n",
    "pd.DataFrame({'SNF_id': snf_ids}).to_csv('TSC01_SNF_id.csv', index=False, header=False)\n",
    "\n",
    "\n",
    "\n",
    "# End "
   ]
  },
  {
   "cell_type": "code",
   "execution_count": null,
   "id": "c29bb58e",
   "metadata": {},
   "outputs": [],
   "source": [
    "# src/my_project/main.py\n",
    "from pathlib import Path\n",
    "import pandas as pd\n",
    "\n",
    "def main():\n",
    "    # __file__ → .../my_project/src/my_project/main.py\n",
    "    project_root = Path(__file__).resolve().parents[2]\n",
    "    data_file   = project_root / \"data\" / \"raw\" / \"input.csv\"\n",
    "\n",
    "    df = pd.read_csv(data_file)\n",
    "    # …後續處理…\n",
    "\n",
    "if __name__ == \"__main__\":\n",
    "    main()"
   ]
  }
 ],
 "metadata": {
  "kernelspec": {
   "display_name": "Python 3",
   "language": "python",
   "name": "python3"
  },
  "language_info": {
   "codemirror_mode": {
    "name": "ipython",
    "version": 3
   },
   "file_extension": ".py",
   "mimetype": "text/x-python",
   "name": "python",
   "nbconvert_exporter": "python",
   "pygments_lexer": "ipython3",
   "version": "3.12.4"
  }
 },
 "nbformat": 4,
 "nbformat_minor": 5
}
