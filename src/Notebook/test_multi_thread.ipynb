{
 "cells": [
  {
   "cell_type": "code",
   "execution_count": 1,
   "id": "b163469e",
   "metadata": {},
   "outputs": [
    {
     "name": "stdout",
     "output_type": "stream",
     "text": [
      "Filtered dataset saved to: C:\\Users\\tim_laptop\\OneDrive\\research\\research_pySNF\\dev_tkinter\\pySNF\\data\\TEST_all_snfs\\All_SNFs_Id.csv\n"
     ]
    }
   ],
   "source": [
    "import pandas as pd\n",
    "from pathlib import Path\n",
    "\n",
    "#===============================================================\n",
    "###  Create Test file for each page \n",
    "#===============================================================\n",
    "\n",
    "# Define input and output paths\n",
    "project_root = Path.cwd().resolve().parents[2] \n",
    "input_path = Path(project_root/\"pySNF/data/DataBase_SNFs/all_stdh_dataset.csv\")\n",
    "# input_path = Path(project_root/\"pySNF/data/test_files/all_stdh_dataset.csv\")\n",
    "output_path = Path(project_root/\"pySNF/data/TEST_all_snfs/All_SNFs_Id.csv\")\n",
    "\n",
    "# Load the original dataset\n",
    "df = pd.read_csv(input_path)\n",
    "\n",
    "# Keep only the specified columns\n",
    "# selected_columns = ['Enrich', 'SP', 'Burnup', 'Cool']\n",
    "selected_id = ['SNF_id']\n",
    "# df_filtered = df[selected_columns]\n",
    "df_filtered = df[selected_id]\n",
    "\n",
    "# Save the filtered DataFrame to a new CSV\n",
    "df_filtered.to_csv(output_path, index=False)\n",
    "\n",
    "print(f\"Filtered dataset saved to: {output_path.resolve()}\")"
   ]
  },
  {
   "cell_type": "code",
   "execution_count": null,
   "id": "221705ae",
   "metadata": {},
   "outputs": [
    {
     "name": "stdout",
     "output_type": "stream",
     "text": [
      "Mean values for selected columns:\n",
      "Enrich        3.175586\n",
      "SP           26.216089\n",
      "Burnup    32806.187704\n",
      "Cool         24.366986\n",
      "dtype: float64\n"
     ]
    }
   ],
   "source": [
    "import pandas as pd\n",
    "from pathlib import Path\n",
    "project_root = Path.cwd().resolve().parents[2] \n",
    "csv_path = Path(project_root/\"pySNF/data/snfs_details/all_stdh_dataset.csv\")\n",
    "\n",
    "# Read the CSV into a DataFrame\n",
    "df = pd.read_csv(csv_path)\n",
    "\n",
    "# Specify the columns to calculate means\n",
    "columns_to_average = ['Enrich', 'SP', 'Burnup', 'Cool']\n",
    "\n",
    "# Compute the mean for each of the four columns\n",
    "mean_values = df[columns_to_average].mean()\n",
    "\n",
    "# Display the result\n",
    "print(\"Mean values for selected columns:\")\n",
    "print(mean_values)"
   ]
  },
  {
   "cell_type": "code",
   "execution_count": 1,
   "id": "51718e2a",
   "metadata": {},
   "outputs": [
    {
     "name": "stdout",
     "output_type": "stream",
     "text": [
      "enrich_space len = 5 ***\n",
      "  [1.5 2.5 3.5 4.5 5.5]\n",
      "sp_space len = 5 ***\n",
      " = [ 5 15 25 35 45]\n",
      "burnup_space len = 12 ***\n",
      " = [ 5000 11000 17000 23000 29000 35000 41000 47000 53000 59000 65000 71000]\n"
     ]
    }
   ],
   "source": [
    "import numpy as np\n",
    "import math\n",
    "\n",
    "# ============ Start Exp ============\n",
    "cross_times = 2 \n",
    "enrich_step = 0.5*cross_times\n",
    "sp_step = 5*cross_times\n",
    "burnup_step = 3000*cross_times\n",
    "cool_step = int(150/cross_times)\n",
    "# print(f'cool_step = {cool_step}')\n",
    "# ============ End Exp ============\n",
    "\n",
    "enrich_space = np.arange(1.5, 6.1, enrich_step)\n",
    "sp_space = np.arange(5, 46, sp_step)\n",
    "burnup_space = np.arange(5000, 74100, burnup_step)\n",
    "cool_space = np.logspace(-5.75, 6.215, cool_step, base=math.e)\n",
    "print(f'enrich_space len = {len(enrich_space)} ***\\n  {enrich_space}')\n",
    "print(f'sp_space len = {len(sp_space)} ***\\n = {sp_space}')\n",
    "print(f'burnup_space len = {len(burnup_space)} ***\\n = {burnup_space}')\n",
    "# print(f'cool_space len = {len(cool_space)} ***\\n {cool_space}')"
   ]
  }
 ],
 "metadata": {
  "kernelspec": {
   "display_name": "tkinter_project",
   "language": "python",
   "name": "python3"
  },
  "language_info": {
   "codemirror_mode": {
    "name": "ipython",
    "version": 3
   },
   "file_extension": ".py",
   "mimetype": "text/x-python",
   "name": "python",
   "nbconvert_exporter": "python",
   "pygments_lexer": "ipython3",
   "version": "3.12.4"
  }
 },
 "nbformat": 4,
 "nbformat_minor": 5
}
