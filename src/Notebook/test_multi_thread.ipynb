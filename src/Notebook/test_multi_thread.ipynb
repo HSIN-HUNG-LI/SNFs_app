{
 "cells": [
  {
   "cell_type": "code",
   "execution_count": 11,
   "id": "4f7398fd",
   "metadata": {},
   "outputs": [
    {
     "name": "stdout",
     "output_type": "stream",
     "text": [
      "324000\n"
     ]
    }
   ],
   "source": [
    "import numpy as np\n",
    "import math\n",
    "enrich_space = np.arange(1.5, 6.1, 0.5)\n",
    "sp_space = np.arange(5, 46, 5)\n",
    "burnup_space = np.arange(5000, 74100, 3000)\n",
    "cool_space = np.logspace(-5.75, 6.215, 150, base=math.e)\n",
    "cool_space_odd = cool_space[1::2]\n",
    "print(len(enrich_space)*len(burnup_space)*len(sp_space)*len(cool_space))\n",
    "# print(f'enrich_space len = {len(enrich_space)} ***\\n  {enrich_space}')\n",
    "# print(f'sp_space len = {len(sp_space)} ***\\n = {sp_space}')\n",
    "# print(f'burnup_space len = {len(burnup_space)} ***\\n = {burnup_space}')\n",
    "# print(f'cool_space len = {len(cool_space)} ***\\n {cool_space}')\n",
    "# print(f'cool_space_odd len = {len(cool_space_odd)} ***\\n {cool_space_odd}')"
   ]
  },
  {
   "cell_type": "code",
   "execution_count": 10,
   "id": "3201a6c1",
   "metadata": {},
   "outputs": [
    {
     "name": "stdout",
     "output_type": "stream",
     "text": [
      "cool_space_odd len = 75 ***\n",
      " [3.44890673e-03 4.04977498e-03 4.75532644e-03 5.58379902e-03\n",
      " 6.55660802e-03 7.69889973e-03 9.04020141e-03 1.06151845e-02\n",
      " 1.24645611e-02 1.46361359e-02 1.71860423e-02 2.01801932e-02\n",
      " 2.36959848e-02 2.78242973e-02 3.26718440e-02 3.83639300e-02\n",
      " 4.50476907e-02 5.28958956e-02 6.21114142e-02 7.29324596e-02\n",
      " 8.56387467e-02 1.00558722e-01 1.18078054e-01 1.38649603e-01\n",
      " 1.62805126e-01 1.91169021e-01 2.24474472e-01 2.63582396e-01\n",
      " 3.09503699e-01 3.63425408e-01 4.26741352e-01 5.01088196e-01\n",
      " 5.88387739e-01 6.90896603e-01 8.11264552e-01 9.52602995e-01\n",
      " 1.11856541e+00 1.31344178e+00 1.54226950e+00 1.81096357e+00\n",
      " 2.12646949e+00 2.49694283e+00 2.93196000e+00 3.44276583e+00\n",
      " 4.04256420e+00 4.74685940e+00 5.57385686e+00 6.54493374e+00\n",
      " 7.68519155e+00 9.02410499e+00 1.05962838e+01 1.24423675e+01\n",
      " 1.46100757e+01 1.71554419e+01 2.01442616e+01 2.36537932e+01\n",
      " 2.77747551e+01 3.26136706e+01 3.82956216e+01 4.49674816e+01\n",
      " 5.28017125e+01 6.20008225e+01 7.28026007e+01 8.54862637e+01\n",
      " 1.00379673e+02 1.17867812e+02 1.38402732e+02 1.62515245e+02\n",
      " 1.90828637e+02 2.24074787e+02 2.63113078e+02 3.08952616e+02\n",
      " 3.62778315e+02 4.25981523e+02 5.00195989e+02]\n"
     ]
    }
   ],
   "source": [
    "print(f'cool_space_odd len = {len(cool_space_odd)} ***\\n {cool_space_odd}')"
   ]
  },
  {
   "cell_type": "code",
   "execution_count": 7,
   "id": "51718e2a",
   "metadata": {},
   "outputs": [
    {
     "name": "stdout",
     "output_type": "stream",
     "text": [
      "enrich_space len = 5 ***\n",
      "  [1.5 2.5 3.5 4.5 5.5]\n",
      "sp_space len = 5 ***\n",
      " = [ 5 15 25 35 45]\n",
      "burnup_space len = 12 ***\n",
      " = [ 5000 11000 17000 23000 29000 35000 41000 47000 53000 59000 65000 71000]\n",
      "cool_space len = 75 ***\n",
      " [3.18278080e-03 3.74134237e-03 4.39792860e-03 5.16974232e-03\n",
      " 6.07700536e-03 7.14348837e-03 8.39713364e-03 9.87078716e-03\n",
      " 1.16030593e-02 1.36393361e-02 1.60329691e-02 1.88466723e-02\n",
      " 2.21541658e-02 2.60421073e-02 3.06123624e-02 3.59846737e-02\n",
      " 4.22997978e-02 4.97231935e-02 5.84493568e-02 6.87069167e-02\n",
      " 8.07646252e-02 9.49383992e-02 1.11599597e-01 1.31184749e-01\n",
      " 1.54206994e-01 1.81269524e-01 2.13081388e-01 2.50476070e-01\n",
      " 2.94433325e-01 3.46104851e-01 4.06844462e-01 4.78243561e-01\n",
      " 5.62172832e-01 6.60831257e-01 7.76803724e-01 9.13128760e-01\n",
      " 1.07337814e+00 1.26175045e+00 1.48318112e+00 1.74347174e+00\n",
      " 2.04944201e+00 2.40910849e+00 2.83189457e+00 3.32887742e+00\n",
      " 3.91307819e+00 4.59980317e+00 5.40704484e+00 6.35595324e+00\n",
      " 7.47139016e+00 8.78258049e+00 1.03238779e+01 1.21356651e+01\n",
      " 1.42654116e+01 1.67689176e+01 1.97117759e+01 2.31710906e+01\n",
      " 2.72374971e+01 3.20175370e+01 3.76364491e+01 4.42414513e+01\n",
      " 5.20055972e+01 6.11323105e+01 7.18607149e+01 8.44718987e+01\n",
      " 9.92962800e+01 1.16722264e+02 1.37206417e+02 1.61285434e+02\n",
      " 1.89590193e+02 2.22862292e+02 2.61973471e+02 3.07948460e+02\n",
      " 3.61991822e+02 4.25519515e+02 5.00195989e+02]\n"
     ]
    }
   ],
   "source": [
    "import numpy as np\n",
    "import math\n",
    "\n",
    "# ============ Start Exp ============\n",
    "cross_times = 2 \n",
    "enrich_step = 0.5*cross_times\n",
    "sp_step = 5*cross_times\n",
    "burnup_step = 3000*cross_times\n",
    "cool_step = int(150/cross_times)\n",
    "# print(f'cool_step = {cool_step}')\n",
    "# ============ End Exp ============\n",
    "\n",
    "enrich_space = np.arange(1.5, 6.1, enrich_step)\n",
    "sp_space = np.arange(5, 46, sp_step)\n",
    "burnup_space = np.arange(5000, 74100, burnup_step)\n",
    "cool_space = np.logspace(-5.75, 6.215, cool_step, base=math.e)\n",
    "print(f'enrich_space len = {len(enrich_space)} ***\\n  {enrich_space}')\n",
    "print(f'sp_space len = {len(sp_space)} ***\\n = {sp_space}')\n",
    "print(f'burnup_space len = {len(burnup_space)} ***\\n = {burnup_space}')\n",
    "print(f'cool_space len = {len(cool_space)} ***\\n {cool_space}')"
   ]
  },
  {
   "cell_type": "code",
   "execution_count": null,
   "id": "de176982",
   "metadata": {},
   "outputs": [
    {
     "name": "stdout",
     "output_type": "stream",
     "text": [
      "Task 0 generated an exception: A process in the process pool was terminated abruptly while the future was running or pending.\n",
      "Task 1 generated an exception: A process in the process pool was terminated abruptly while the future was running or pending.\n",
      "Task 2 generated an exception: A process in the process pool was terminated abruptly while the future was running or pending.\n",
      "Task 3 generated an exception: A process in the process pool was terminated abruptly while the future was running or pending.\n",
      "Task 4 generated an exception: A process in the process pool was terminated abruptly while the future was running or pending.\n",
      "Task 5 generated an exception: A process in the process pool was terminated abruptly while the future was running or pending.\n",
      "Task 6 generated an exception: A process in the process pool was terminated abruptly while the future was running or pending.\n",
      "Task 7 generated an exception: A process in the process pool was terminated abruptly while the future was running or pending.\n"
     ]
    }
   ],
   "source": [
    "from concurrent.futures import ProcessPoolExecutor, as_completed\n",
    "import os\n",
    "\n",
    "def worker(task_id, data_chunk):\n",
    "    result = 0\n",
    "    for x in data_chunk:\n",
    "        # 模擬 CPU-bound 計算\n",
    "        result += x * x\n",
    "    print(f\"[Process {os.getpid()}] Task {task_id} done\")\n",
    "    return result\n",
    "\n",
    "if __name__ == '__main__':\n",
    "    # 假設有一大筆資料要分成 4 份\n",
    "    data = list(range(10_000_000))\n",
    "    n_workers = os.cpu_count() or 4           # 自動偵測核心數\n",
    "    chunk_size = len(data) // n_workers\n",
    "\n",
    "    # 將資料切片分派給每個子程序\n",
    "    tasks = [\n",
    "        (i, data[i*chunk_size : (i+1)*chunk_size])\n",
    "        for i in range(n_workers)\n",
    "    ]\n",
    "\n",
    "    results = []\n",
    "    with ProcessPoolExecutor(max_workers=n_workers) as executor:\n",
    "        # 提交所有任務\n",
    "        future_to_task = {\n",
    "            executor.submit(worker, task_id, chunk): task_id\n",
    "            for task_id, chunk in tasks\n",
    "        }\n",
    "        # 取得完成結果\n",
    "        for future in as_completed(future_to_task):\n",
    "            task_id = future_to_task[future]\n",
    "            try:\n",
    "                res = future.result()\n",
    "                results.append((task_id, res))\n",
    "            except Exception as exc:\n",
    "                print(f\"Task {task_id} generated an exception: {exc}\")\n",
    "\n",
    "    # 彙總所有子程序的結果\n",
    "    total = sum(r for _, r in results)\n",
    "    print(\"Final result:\", total)\n"
   ]
  }
 ],
 "metadata": {
  "kernelspec": {
   "display_name": "tkinter_project",
   "language": "python",
   "name": "python3"
  },
  "language_info": {
   "codemirror_mode": {
    "name": "ipython",
    "version": 3
   },
   "file_extension": ".py",
   "mimetype": "text/x-python",
   "name": "python",
   "nbconvert_exporter": "python",
   "pygments_lexer": "ipython3",
   "version": "3.12.4"
  }
 },
 "nbformat": 4,
 "nbformat_minor": 5
}
