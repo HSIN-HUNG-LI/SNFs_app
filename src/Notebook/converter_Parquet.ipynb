{
 "cells": [
  {
   "cell_type": "code",
   "execution_count": 6,
   "id": "b81f2c8d",
   "metadata": {},
   "outputs": [
    {
     "name": "stdout",
     "output_type": "stream",
     "text": [
      "Wrote 322499 rows from 1 file(s) into 'C:\\Users\\tim_laptop\\OneDrive\\research\\research_pySNF\\dev_tkinter\\pySNF\\data\\grid_database\\grid_database.parq'.\n"
     ]
    },
    {
     "name": "stderr",
     "output_type": "stream",
     "text": [
      "c:\\Users\\tim_laptop\\AppData\\Local\\Programs\\Python\\Python312\\Lib\\site-packages\\pandas\\io\\parquet.py:480: UserWarning: The DataFrame has non-str index name `[1.5]` which will be converted to string and not roundtrip correctly.\n",
      "  impl.write(\n",
      "c:\\Users\\tim_laptop\\AppData\\Local\\Programs\\Python\\Python312\\Lib\\site-packages\\pandas\\io\\parquet.py:190: UserWarning: The DataFrame has column names of mixed type. They will be converted to strings and not roundtrip correctly.\n",
      "  table = self.api.Table.from_pandas(df, **from_pandas_kwargs)\n"
     ]
    }
   ],
   "source": [
    "\n",
    "from core_obj import SNFParquetConverter\n",
    "from pathlib import Path\n",
    "project_root = Path.cwd().resolve().parents[2]\n",
    "input_data_file = project_root / \"ref_grid\" /\"data\" / \"grid_database_original\" \n",
    "output_data_file = Path.cwd().resolve().parents[1] /\"data\" / \"grid_database\" \n",
    "# 1) Convert all .csv/.xlsx in the current folder:\n",
    "converter = SNFParquetConverter(input_folder=input_data_file, output_file=output_data_file/\"grid_database.parq\")\n",
    "converter.convert_to_parquet()\n",
    "\n"
   ]
  },
  {
   "cell_type": "code",
   "execution_count": 4,
   "id": "c6e9f5c8",
   "metadata": {},
   "outputs": [
    {
     "name": "stdout",
     "output_type": "stream",
     "text": [
      "<class 'pandas.core.frame.DataFrame'>\n"
     ]
    },
    {
     "data": {
      "text/plain": [
       "pandas.core.frame.DataFrame"
      ]
     },
     "execution_count": 4,
     "metadata": {},
     "output_type": "execute_result"
    }
   ],
   "source": [
    "df_all = SNFParquetConverter.read_parquet(\"grid_database.parq\")\n",
    "# print(\"All data head:\\n\", df_all.head())\n",
    "print(type(df_all))\n",
    "# 3) Read only the rows from 'sample.xlsx':\n",
    "df_sample = SNFParquetConverter.read_by_source(\"grid_database.parq\", \"database_weighted.xlsx\")\n",
    "# print(\"Rows from sample.xlsx:\\n\", df_sample.head())\n",
    "type(df_sample)"
   ]
  }
 ],
 "metadata": {
  "kernelspec": {
   "display_name": "tkinter_project",
   "language": "python",
   "name": "python3"
  },
  "language_info": {
   "codemirror_mode": {
    "name": "ipython",
    "version": 3
   },
   "file_extension": ".py",
   "mimetype": "text/x-python",
   "name": "python",
   "nbconvert_exporter": "python",
   "pygments_lexer": "ipython3",
   "version": "3.12.4"
  }
 },
 "nbformat": 4,
 "nbformat_minor": 5
}
