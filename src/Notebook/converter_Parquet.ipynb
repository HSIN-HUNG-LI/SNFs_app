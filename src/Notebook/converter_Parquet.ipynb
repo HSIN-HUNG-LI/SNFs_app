{
 "cells": [
  {
   "cell_type": "code",
   "execution_count": null,
   "id": "163324f1",
   "metadata": {},
   "outputs": [],
   "source": [
    "from core_obj import SNFParquetConverter\n",
    "from pathlib import Path\n",
    "import pandas as pd\n",
    "from typing import Union, List\n",
    "project_root = Path.cwd().resolve().parents[2]\n",
    "input_data_file = project_root / \"ref_grid\" /\"data\" / \"grid_database_original\"/ \"grid_database_weighted.xlsx\" "
   ]
  },
  {
   "cell_type": "code",
   "execution_count": null,
   "id": "b81f2c8d",
   "metadata": {},
   "outputs": [
    {
     "name": "stdout",
     "output_type": "stream",
     "text": [
      "Wrote single file to parq 322499 rows from 322499 file(s) \n"
     ]
    }
   ],
   "source": [
    "\n",
    "\n",
    "from pathlib import Path\n",
    "import pandas as pd\n",
    "from typing import Union, List\n",
    "project_root = Path.cwd().resolve().parents[2]\n",
    "input_data_file = project_root / \"ref_grid\" /\"data\" / \"grid_database_original\"/ \"grid_database_weighted.xlsx\" \n",
    "output_data_file = Path.cwd().resolve().parents[1] /\"data\" / \"grid_database\" / \"grid_database.parq\"\n",
    "output_data_file2 = Path.cwd().resolve().parents[2] /\"ref_grid\" /\"data\" / \"grid_database.parq\"\n",
    "# 1) Convert all .csv/.xlsx in the current folder:\n",
    "df = pd.read_excel(input_data_file, engine=\"openpyxl\")\n",
    "df.to_parquet(output_data_file)\n",
    "df.to_parquet(output_data_file2)\n",
    "print(\n",
    "    f\"Wrote single file to parq {df.shape[0]} rows \"\n",
    ")\n",
    "\n",
    "\n"
   ]
  },
  {
   "cell_type": "code",
   "execution_count": 5,
   "id": "c6e9f5c8",
   "metadata": {},
   "outputs": [
    {
     "name": "stdout",
     "output_type": "stream",
     "text": [
      "===========================================\n",
      "<class 'pandas.core.frame.DataFrame'>\n",
      "df col = Index([                  1.5,                   5.0,                5000.0,\n",
      "        0.003182780796509668,    26278.129999999997,        7736075.876312,\n",
      "            37956472872860.0, 3.547435679760408e+17],\n",
      "      dtype='float64')\n",
      "df len of col = 8\n"
     ]
    }
   ],
   "source": [
    "from pathlib import Path\n",
    "from core_obj import SNFParquetConverter\n",
    "read_parq = Path.cwd().resolve().parents[1] /\"data\" / \"grid_database\" / \"grid_database.parq\"\n",
    "df_all = SNFParquetConverter.read_parquet(read_parq)\n",
    "import pandas as pd\n",
    "from typing import Union, List\n",
    "project_root = Path.cwd().resolve().parents[2]\n",
    "input_data_file = project_root / \"ref_grid\" /\"data\" / \"grid_database_original\"/ \"grid_database_weighted.xlsx\" \n",
    "\n",
    "# df_excel = pd.read_excel(input_data_file, index_col=0, engine=\"openpyxl\")\n",
    "# print(type(df_excel))\n",
    "# print(f'df_excel col = {df_excel.columns}')\n",
    "print('===========================================')\n",
    "# print(\"All data head:\\n\", df_all.head())\n",
    "print(type(df_all))\n",
    "print(f'df col = {df_all.columns}')\n",
    "print(f'df len of col = {len(df_all.columns)}')\n",
    "# 3) Read only the rows from 'sample.xlsx':\n",
    "# df_sample = SNFParquetConverter.read_by_source(\"grid_database.parq\", \"database_weighted.xlsx\")\n",
    "# print(\"Rows from sample.xlsx:\\n\", df_sample.head())\n",
    "# type(df_sample)"
   ]
  }
 ],
 "metadata": {
  "kernelspec": {
   "display_name": "tkinter_project",
   "language": "python",
   "name": "python3"
  },
  "language_info": {
   "codemirror_mode": {
    "name": "ipython",
    "version": 3
   },
   "file_extension": ".py",
   "mimetype": "text/x-python",
   "name": "python",
   "nbconvert_exporter": "python",
   "pygments_lexer": "ipython3",
   "version": "3.12.4"
  }
 },
 "nbformat": 4,
 "nbformat_minor": 5
}
