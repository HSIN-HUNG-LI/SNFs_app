{
 "cells": [
  {
   "cell_type": "code",
   "execution_count": 1,
   "id": "51718e2a",
   "metadata": {},
   "outputs": [
    {
     "name": "stdout",
     "output_type": "stream",
     "text": [
      "enrich_space len = 5 ***\n",
      "  [1.5 2.5 3.5 4.5 5.5]\n",
      "sp_space len = 5 ***\n",
      " = [ 5 15 25 35 45]\n",
      "burnup_space len = 12 ***\n",
      " = [ 5000 11000 17000 23000 29000 35000 41000 47000 53000 59000 65000 71000]\n"
     ]
    }
   ],
   "source": [
    "import numpy as np\n",
    "import math\n",
    "\n",
    "# ============ Start Exp ============\n",
    "cross_times = 2 \n",
    "enrich_step = 0.5*cross_times\n",
    "sp_step = 5*cross_times\n",
    "burnup_step = 3000*cross_times\n",
    "cool_step = int(150/cross_times)\n",
    "# print(f'cool_step = {cool_step}')\n",
    "# ============ End Exp ============\n",
    "\n",
    "enrich_space = np.arange(1.5, 6.1, enrich_step)\n",
    "sp_space = np.arange(5, 46, sp_step)\n",
    "burnup_space = np.arange(5000, 74100, burnup_step)\n",
    "cool_space = np.logspace(-5.75, 6.215, cool_step, base=math.e)\n",
    "print(f'enrich_space len = {len(enrich_space)} ***\\n  {enrich_space}')\n",
    "print(f'sp_space len = {len(sp_space)} ***\\n = {sp_space}')\n",
    "print(f'burnup_space len = {len(burnup_space)} ***\\n = {burnup_space}')\n",
    "# print(f'cool_space len = {len(cool_space)} ***\\n {cool_space}')"
   ]
  }
 ],
 "metadata": {
  "kernelspec": {
   "display_name": "tkinter_project",
   "language": "python",
   "name": "python3"
  },
  "language_info": {
   "codemirror_mode": {
    "name": "ipython",
    "version": 3
   },
   "file_extension": ".py",
   "mimetype": "text/x-python",
   "name": "python",
   "nbconvert_exporter": "python",
   "pygments_lexer": "ipython3",
   "version": "3.12.4"
  }
 },
 "nbformat": 4,
 "nbformat_minor": 5
}
